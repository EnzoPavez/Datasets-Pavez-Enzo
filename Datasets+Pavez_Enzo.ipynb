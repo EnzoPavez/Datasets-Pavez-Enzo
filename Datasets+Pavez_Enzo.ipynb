{
  "nbformat": 4,
  "nbformat_minor": 0,
  "metadata": {
    "colab": {
      "provenance": [],
      "authorship_tag": "ABX9TyOxPBvz2TmCvtBDDmL6yKix",
      "include_colab_link": true
    },
    "kernelspec": {
      "name": "python3",
      "display_name": "Python 3"
    },
    "language_info": {
      "name": "python"
    }
  },
  "cells": [
    {
      "cell_type": "markdown",
      "metadata": {
        "id": "view-in-github",
        "colab_type": "text"
      },
      "source": [
        "<a href=\"https://colab.research.google.com/github/EnzoPavez/Datasets-Pavez-Enzo/blob/main/Datasets%2BPavez_Enzo.ipynb\" target=\"_parent\"><img src=\"https://colab.research.google.com/assets/colab-badge.svg\" alt=\"Open In Colab\"/></a>"
      ]
    },
    {
      "cell_type": "markdown",
      "source": [
        "# Instalacion API Kaggle\n",
        "Instalacion de las credencias de la API de Kaggle para descargar los datasets (solo es necesario ejecutar una vez)"
      ],
      "metadata": {
        "id": "ynt5VQs6Yn2F"
      }
    },
    {
      "cell_type": "code",
      "source": [
        "#Instala Kaggle\n",
        "!pip install kaggle"
      ],
      "metadata": {
        "colab": {
          "base_uri": "https://localhost:8080/"
        },
        "id": "SEHVtolGYvHr",
        "outputId": "e88668e5-bbd9-46fc-a6d5-4f1ea80eaf09"
      },
      "execution_count": null,
      "outputs": [
        {
          "output_type": "stream",
          "name": "stdout",
          "text": [
            "Looking in indexes: https://pypi.org/simple, https://us-python.pkg.dev/colab-wheels/public/simple/\n",
            "Requirement already satisfied: kaggle in /usr/local/lib/python3.9/dist-packages (1.5.13)\n",
            "Requirement already satisfied: python-slugify in /usr/local/lib/python3.9/dist-packages (from kaggle) (8.0.1)\n",
            "Requirement already satisfied: python-dateutil in /usr/local/lib/python3.9/dist-packages (from kaggle) (2.8.2)\n",
            "Requirement already satisfied: six>=1.10 in /usr/local/lib/python3.9/dist-packages (from kaggle) (1.15.0)\n",
            "Requirement already satisfied: requests in /usr/local/lib/python3.9/dist-packages (from kaggle) (2.27.1)\n",
            "Requirement already satisfied: tqdm in /usr/local/lib/python3.9/dist-packages (from kaggle) (4.65.0)\n",
            "Requirement already satisfied: urllib3 in /usr/local/lib/python3.9/dist-packages (from kaggle) (1.26.15)\n",
            "Requirement already satisfied: certifi in /usr/local/lib/python3.9/dist-packages (from kaggle) (2022.12.7)\n",
            "Requirement already satisfied: text-unidecode>=1.3 in /usr/local/lib/python3.9/dist-packages (from python-slugify->kaggle) (1.3)\n",
            "Requirement already satisfied: charset-normalizer~=2.0.0 in /usr/local/lib/python3.9/dist-packages (from requests->kaggle) (2.0.12)\n",
            "Requirement already satisfied: idna<4,>=2.5 in /usr/local/lib/python3.9/dist-packages (from requests->kaggle) (3.4)\n"
          ]
        }
      ]
    },
    {
      "cell_type": "code",
      "source": [
        "#Crea la ruta necesaria para guardar el archivo de credenciales de la API\n",
        "!mkdir ~/.kaggle"
      ],
      "metadata": {
        "id": "spxqpOa6Zw0U"
      },
      "execution_count": null,
      "outputs": []
    },
    {
      "cell_type": "code",
      "source": [
        "#Descarga el archivo con las credenciales para la API de Kaggle en la carpeta actual\n",
        "!gdown --id 1yI2x4qazF5vuMFw_aof-4laGe366TyrJ"
      ],
      "metadata": {
        "colab": {
          "base_uri": "https://localhost:8080/"
        },
        "id": "TLa9nkX1G193",
        "outputId": "daecd706-a1d9-4440-98d5-142d9f02d6d7"
      },
      "execution_count": null,
      "outputs": [
        {
          "output_type": "stream",
          "name": "stdout",
          "text": [
            "/usr/local/lib/python3.9/dist-packages/gdown/cli.py:121: FutureWarning: Option `--id` was deprecated in version 4.3.1 and will be removed in 5.0. You don't need to pass it anymore to use a file ID.\n",
            "  warnings.warn(\n",
            "Downloading...\n",
            "From: https://drive.google.com/uc?id=1yI2x4qazF5vuMFw_aof-4laGe366TyrJ\n",
            "To: /content/kaggle.json\n",
            "100% 66.0/66.0 [00:00<00:00, 91.0kB/s]\n"
          ]
        }
      ]
    },
    {
      "cell_type": "code",
      "source": [
        "#Copia el archivo de credenciales de API en la carpeta ncesaria para que funcione\n",
        "!cp kaggle.json ~/.kaggle/"
      ],
      "metadata": {
        "id": "f7BY-mrLas-3"
      },
      "execution_count": null,
      "outputs": []
    },
    {
      "cell_type": "code",
      "source": [
        "#Modificacion de permisos del archivo para su correcto funcionamiento\n",
        "!chmod 600 ~/.kaggle/kaggle.json"
      ],
      "metadata": {
        "id": "wjdylx9wa94L"
      },
      "execution_count": null,
      "outputs": []
    },
    {
      "cell_type": "code",
      "source": [
        "import pandas as pd"
      ],
      "metadata": {
        "id": "j_i6BVlKqPtH"
      },
      "execution_count": null,
      "outputs": []
    },
    {
      "cell_type": "markdown",
      "source": [
        "##Primer Dataset : Predecir la deserción y el éxito académico de los estudiantes\n",
        "Fuente: https://www.kaggle.com/datasets/thedevastator/higher-education-predictors-of-student-retention\n",
        "\n",
        "Este conjunto de datos proporciona una visión integral de los estudiantes matriculados en varios títulos universitarios que se ofrecen en una institución de educación superior. Incluye datos demográficos, factores socioeconómicos e información sobre el rendimiento académico que se pueden utilizar para analizar los posibles predictores de la deserción y el éxito académico de los estudiantes. Este conjunto de datos contiene varias bases de datos inconexas que contienen información relevante disponible en el momento de la inscripción, como el modo de solicitud, el estado civil, el curso elegido y más. Además, estos datos se pueden utilizar para estimar el rendimiento general de los estudiantes al final de cada semestre al evaluar las unidades curriculares acreditadas/inscritas/evaluadas/aprobadas, así como sus respectivas calificaciones. Finalmente, tenemos la tasa de desempleo, tasa de inflación y el PIB de la región, lo que puede ayudarnos a comprender mejor cómo los factores económicos influyen en las tasas de deserción estudiantil o los resultados de éxito académico. Esta poderosa herramienta de análisis proporcionará información valiosa sobre lo que motiva a los estudiantes a permanecer en la escuela o abandonar sus estudios por una amplia gama de disciplinas como la agronomía, el diseño, la educación, la enfermería, el periodismo, la gestión, el servicio social o las tecnologías."
      ],
      "metadata": {
        "id": "P3FouvtRcQFu"
      }
    },
    {
      "cell_type": "code",
      "source": [
        "#Descarga del dataset en formato texto\n",
        "!kaggle datasets download -d thedevastator/higher-education-predictors-of-student-retention\n"
      ],
      "metadata": {
        "colab": {
          "base_uri": "https://localhost:8080/"
        },
        "id": "7GbKkG3JbxNb",
        "outputId": "e52a063b-28e1-49d1-ff6e-3c64aff1d618"
      },
      "execution_count": null,
      "outputs": [
        {
          "output_type": "stream",
          "name": "stdout",
          "text": [
            "Downloading higher-education-predictors-of-student-retention.zip to /content\n",
            "\r  0% 0.00/87.2k [00:00<?, ?B/s]\n",
            "\r100% 87.2k/87.2k [00:00<00:00, 42.3MB/s]\n"
          ]
        }
      ]
    },
    {
      "cell_type": "code",
      "source": [
        "#Extrae el archivo de texto del comprimido descargado de Kaggle\n",
        "!unzip -o higher-education-predictors-of-student-retention.zip"
      ],
      "metadata": {
        "colab": {
          "base_uri": "https://localhost:8080/"
        },
        "outputId": "22a9c092-9bab-4c6e-888c-b3ab1fc857e5",
        "id": "XHetIzVEconv"
      },
      "execution_count": null,
      "outputs": [
        {
          "output_type": "stream",
          "name": "stdout",
          "text": [
            "Archive:  higher-education-predictors-of-student-retention.zip\n",
            "  inflating: dataset.csv             \n"
          ]
        }
      ]
    },
    {
      "cell_type": "code",
      "source": [
        "df_hr = pd.read_csv('dataset.csv')"
      ],
      "metadata": {
        "id": "YMuUsD4D6c6u"
      },
      "execution_count": null,
      "outputs": []
    },
    {
      "cell_type": "code",
      "source": [
        "df_hr.head()"
      ],
      "metadata": {
        "colab": {
          "base_uri": "https://localhost:8080/",
          "height": 351
        },
        "id": "4SK17XSCgp4Q",
        "outputId": "a6fcf294-c62f-474b-ea05-f71b80d5bcc8"
      },
      "execution_count": null,
      "outputs": [
        {
          "output_type": "execute_result",
          "data": {
            "text/plain": [
              "   Marital status  Application mode  Application order  Course  \\\n",
              "0               1                 8                  5       2   \n",
              "1               1                 6                  1      11   \n",
              "2               1                 1                  5       5   \n",
              "3               1                 8                  2      15   \n",
              "4               2                12                  1       3   \n",
              "\n",
              "   Daytime/evening attendance  Previous qualification  Nacionality  \\\n",
              "0                           1                       1            1   \n",
              "1                           1                       1            1   \n",
              "2                           1                       1            1   \n",
              "3                           1                       1            1   \n",
              "4                           0                       1            1   \n",
              "\n",
              "   Mother's qualification  Father's qualification  Mother's occupation  ...  \\\n",
              "0                      13                      10                    6  ...   \n",
              "1                       1                       3                    4  ...   \n",
              "2                      22                      27                   10  ...   \n",
              "3                      23                      27                    6  ...   \n",
              "4                      22                      28                   10  ...   \n",
              "\n",
              "   Curricular units 2nd sem (credited)  Curricular units 2nd sem (enrolled)  \\\n",
              "0                                    0                                    0   \n",
              "1                                    0                                    6   \n",
              "2                                    0                                    6   \n",
              "3                                    0                                    6   \n",
              "4                                    0                                    6   \n",
              "\n",
              "   Curricular units 2nd sem (evaluations)  \\\n",
              "0                                       0   \n",
              "1                                       6   \n",
              "2                                       0   \n",
              "3                                      10   \n",
              "4                                       6   \n",
              "\n",
              "   Curricular units 2nd sem (approved)  Curricular units 2nd sem (grade)  \\\n",
              "0                                    0                          0.000000   \n",
              "1                                    6                         13.666667   \n",
              "2                                    0                          0.000000   \n",
              "3                                    5                         12.400000   \n",
              "4                                    6                         13.000000   \n",
              "\n",
              "   Curricular units 2nd sem (without evaluations)  Unemployment rate  \\\n",
              "0                                               0               10.8   \n",
              "1                                               0               13.9   \n",
              "2                                               0               10.8   \n",
              "3                                               0                9.4   \n",
              "4                                               0               13.9   \n",
              "\n",
              "   Inflation rate   GDP    Target  \n",
              "0             1.4  1.74   Dropout  \n",
              "1            -0.3  0.79  Graduate  \n",
              "2             1.4  1.74   Dropout  \n",
              "3            -0.8 -3.12  Graduate  \n",
              "4            -0.3  0.79  Graduate  \n",
              "\n",
              "[5 rows x 35 columns]"
            ],
            "text/html": [
              "\n",
              "  <div id=\"df-f3d7a74d-3717-48e4-92e2-8ab10634d3bd\">\n",
              "    <div class=\"colab-df-container\">\n",
              "      <div>\n",
              "<style scoped>\n",
              "    .dataframe tbody tr th:only-of-type {\n",
              "        vertical-align: middle;\n",
              "    }\n",
              "\n",
              "    .dataframe tbody tr th {\n",
              "        vertical-align: top;\n",
              "    }\n",
              "\n",
              "    .dataframe thead th {\n",
              "        text-align: right;\n",
              "    }\n",
              "</style>\n",
              "<table border=\"1\" class=\"dataframe\">\n",
              "  <thead>\n",
              "    <tr style=\"text-align: right;\">\n",
              "      <th></th>\n",
              "      <th>Marital status</th>\n",
              "      <th>Application mode</th>\n",
              "      <th>Application order</th>\n",
              "      <th>Course</th>\n",
              "      <th>Daytime/evening attendance</th>\n",
              "      <th>Previous qualification</th>\n",
              "      <th>Nacionality</th>\n",
              "      <th>Mother's qualification</th>\n",
              "      <th>Father's qualification</th>\n",
              "      <th>Mother's occupation</th>\n",
              "      <th>...</th>\n",
              "      <th>Curricular units 2nd sem (credited)</th>\n",
              "      <th>Curricular units 2nd sem (enrolled)</th>\n",
              "      <th>Curricular units 2nd sem (evaluations)</th>\n",
              "      <th>Curricular units 2nd sem (approved)</th>\n",
              "      <th>Curricular units 2nd sem (grade)</th>\n",
              "      <th>Curricular units 2nd sem (without evaluations)</th>\n",
              "      <th>Unemployment rate</th>\n",
              "      <th>Inflation rate</th>\n",
              "      <th>GDP</th>\n",
              "      <th>Target</th>\n",
              "    </tr>\n",
              "  </thead>\n",
              "  <tbody>\n",
              "    <tr>\n",
              "      <th>0</th>\n",
              "      <td>1</td>\n",
              "      <td>8</td>\n",
              "      <td>5</td>\n",
              "      <td>2</td>\n",
              "      <td>1</td>\n",
              "      <td>1</td>\n",
              "      <td>1</td>\n",
              "      <td>13</td>\n",
              "      <td>10</td>\n",
              "      <td>6</td>\n",
              "      <td>...</td>\n",
              "      <td>0</td>\n",
              "      <td>0</td>\n",
              "      <td>0</td>\n",
              "      <td>0</td>\n",
              "      <td>0.000000</td>\n",
              "      <td>0</td>\n",
              "      <td>10.8</td>\n",
              "      <td>1.4</td>\n",
              "      <td>1.74</td>\n",
              "      <td>Dropout</td>\n",
              "    </tr>\n",
              "    <tr>\n",
              "      <th>1</th>\n",
              "      <td>1</td>\n",
              "      <td>6</td>\n",
              "      <td>1</td>\n",
              "      <td>11</td>\n",
              "      <td>1</td>\n",
              "      <td>1</td>\n",
              "      <td>1</td>\n",
              "      <td>1</td>\n",
              "      <td>3</td>\n",
              "      <td>4</td>\n",
              "      <td>...</td>\n",
              "      <td>0</td>\n",
              "      <td>6</td>\n",
              "      <td>6</td>\n",
              "      <td>6</td>\n",
              "      <td>13.666667</td>\n",
              "      <td>0</td>\n",
              "      <td>13.9</td>\n",
              "      <td>-0.3</td>\n",
              "      <td>0.79</td>\n",
              "      <td>Graduate</td>\n",
              "    </tr>\n",
              "    <tr>\n",
              "      <th>2</th>\n",
              "      <td>1</td>\n",
              "      <td>1</td>\n",
              "      <td>5</td>\n",
              "      <td>5</td>\n",
              "      <td>1</td>\n",
              "      <td>1</td>\n",
              "      <td>1</td>\n",
              "      <td>22</td>\n",
              "      <td>27</td>\n",
              "      <td>10</td>\n",
              "      <td>...</td>\n",
              "      <td>0</td>\n",
              "      <td>6</td>\n",
              "      <td>0</td>\n",
              "      <td>0</td>\n",
              "      <td>0.000000</td>\n",
              "      <td>0</td>\n",
              "      <td>10.8</td>\n",
              "      <td>1.4</td>\n",
              "      <td>1.74</td>\n",
              "      <td>Dropout</td>\n",
              "    </tr>\n",
              "    <tr>\n",
              "      <th>3</th>\n",
              "      <td>1</td>\n",
              "      <td>8</td>\n",
              "      <td>2</td>\n",
              "      <td>15</td>\n",
              "      <td>1</td>\n",
              "      <td>1</td>\n",
              "      <td>1</td>\n",
              "      <td>23</td>\n",
              "      <td>27</td>\n",
              "      <td>6</td>\n",
              "      <td>...</td>\n",
              "      <td>0</td>\n",
              "      <td>6</td>\n",
              "      <td>10</td>\n",
              "      <td>5</td>\n",
              "      <td>12.400000</td>\n",
              "      <td>0</td>\n",
              "      <td>9.4</td>\n",
              "      <td>-0.8</td>\n",
              "      <td>-3.12</td>\n",
              "      <td>Graduate</td>\n",
              "    </tr>\n",
              "    <tr>\n",
              "      <th>4</th>\n",
              "      <td>2</td>\n",
              "      <td>12</td>\n",
              "      <td>1</td>\n",
              "      <td>3</td>\n",
              "      <td>0</td>\n",
              "      <td>1</td>\n",
              "      <td>1</td>\n",
              "      <td>22</td>\n",
              "      <td>28</td>\n",
              "      <td>10</td>\n",
              "      <td>...</td>\n",
              "      <td>0</td>\n",
              "      <td>6</td>\n",
              "      <td>6</td>\n",
              "      <td>6</td>\n",
              "      <td>13.000000</td>\n",
              "      <td>0</td>\n",
              "      <td>13.9</td>\n",
              "      <td>-0.3</td>\n",
              "      <td>0.79</td>\n",
              "      <td>Graduate</td>\n",
              "    </tr>\n",
              "  </tbody>\n",
              "</table>\n",
              "<p>5 rows × 35 columns</p>\n",
              "</div>\n",
              "      <button class=\"colab-df-convert\" onclick=\"convertToInteractive('df-f3d7a74d-3717-48e4-92e2-8ab10634d3bd')\"\n",
              "              title=\"Convert this dataframe to an interactive table.\"\n",
              "              style=\"display:none;\">\n",
              "        \n",
              "  <svg xmlns=\"http://www.w3.org/2000/svg\" height=\"24px\"viewBox=\"0 0 24 24\"\n",
              "       width=\"24px\">\n",
              "    <path d=\"M0 0h24v24H0V0z\" fill=\"none\"/>\n",
              "    <path d=\"M18.56 5.44l.94 2.06.94-2.06 2.06-.94-2.06-.94-.94-2.06-.94 2.06-2.06.94zm-11 1L8.5 8.5l.94-2.06 2.06-.94-2.06-.94L8.5 2.5l-.94 2.06-2.06.94zm10 10l.94 2.06.94-2.06 2.06-.94-2.06-.94-.94-2.06-.94 2.06-2.06.94z\"/><path d=\"M17.41 7.96l-1.37-1.37c-.4-.4-.92-.59-1.43-.59-.52 0-1.04.2-1.43.59L10.3 9.45l-7.72 7.72c-.78.78-.78 2.05 0 2.83L4 21.41c.39.39.9.59 1.41.59.51 0 1.02-.2 1.41-.59l7.78-7.78 2.81-2.81c.8-.78.8-2.07 0-2.86zM5.41 20L4 18.59l7.72-7.72 1.47 1.35L5.41 20z\"/>\n",
              "  </svg>\n",
              "      </button>\n",
              "      \n",
              "  <style>\n",
              "    .colab-df-container {\n",
              "      display:flex;\n",
              "      flex-wrap:wrap;\n",
              "      gap: 12px;\n",
              "    }\n",
              "\n",
              "    .colab-df-convert {\n",
              "      background-color: #E8F0FE;\n",
              "      border: none;\n",
              "      border-radius: 50%;\n",
              "      cursor: pointer;\n",
              "      display: none;\n",
              "      fill: #1967D2;\n",
              "      height: 32px;\n",
              "      padding: 0 0 0 0;\n",
              "      width: 32px;\n",
              "    }\n",
              "\n",
              "    .colab-df-convert:hover {\n",
              "      background-color: #E2EBFA;\n",
              "      box-shadow: 0px 1px 2px rgba(60, 64, 67, 0.3), 0px 1px 3px 1px rgba(60, 64, 67, 0.15);\n",
              "      fill: #174EA6;\n",
              "    }\n",
              "\n",
              "    [theme=dark] .colab-df-convert {\n",
              "      background-color: #3B4455;\n",
              "      fill: #D2E3FC;\n",
              "    }\n",
              "\n",
              "    [theme=dark] .colab-df-convert:hover {\n",
              "      background-color: #434B5C;\n",
              "      box-shadow: 0px 1px 3px 1px rgba(0, 0, 0, 0.15);\n",
              "      filter: drop-shadow(0px 1px 2px rgba(0, 0, 0, 0.3));\n",
              "      fill: #FFFFFF;\n",
              "    }\n",
              "  </style>\n",
              "\n",
              "      <script>\n",
              "        const buttonEl =\n",
              "          document.querySelector('#df-f3d7a74d-3717-48e4-92e2-8ab10634d3bd button.colab-df-convert');\n",
              "        buttonEl.style.display =\n",
              "          google.colab.kernel.accessAllowed ? 'block' : 'none';\n",
              "\n",
              "        async function convertToInteractive(key) {\n",
              "          const element = document.querySelector('#df-f3d7a74d-3717-48e4-92e2-8ab10634d3bd');\n",
              "          const dataTable =\n",
              "            await google.colab.kernel.invokeFunction('convertToInteractive',\n",
              "                                                     [key], {});\n",
              "          if (!dataTable) return;\n",
              "\n",
              "          const docLinkHtml = 'Like what you see? Visit the ' +\n",
              "            '<a target=\"_blank\" href=https://colab.research.google.com/notebooks/data_table.ipynb>data table notebook</a>'\n",
              "            + ' to learn more about interactive tables.';\n",
              "          element.innerHTML = '';\n",
              "          dataTable['output_type'] = 'display_data';\n",
              "          await google.colab.output.renderOutput(dataTable, element);\n",
              "          const docLink = document.createElement('div');\n",
              "          docLink.innerHTML = docLinkHtml;\n",
              "          element.appendChild(docLink);\n",
              "        }\n",
              "      </script>\n",
              "    </div>\n",
              "  </div>\n",
              "  "
            ]
          },
          "metadata": {},
          "execution_count": 11
        }
      ]
    },
    {
      "cell_type": "code",
      "source": [
        "df_hr.shape"
      ],
      "metadata": {
        "colab": {
          "base_uri": "https://localhost:8080/"
        },
        "id": "Wa34WldPguj1",
        "outputId": "609c61fe-b1b6-4d20-9a94-8a44f219162a"
      },
      "execution_count": null,
      "outputs": [
        {
          "output_type": "execute_result",
          "data": {
            "text/plain": [
              "(4424, 35)"
            ]
          },
          "metadata": {},
          "execution_count": 12
        }
      ]
    },
    {
      "cell_type": "code",
      "source": [
        "df_hr.columns.tolist()"
      ],
      "metadata": {
        "colab": {
          "base_uri": "https://localhost:8080/"
        },
        "id": "o6cpQThFgx4G",
        "outputId": "756a6030-fec9-4cf4-f13c-9b5e0cdd860c"
      },
      "execution_count": null,
      "outputs": [
        {
          "output_type": "execute_result",
          "data": {
            "text/plain": [
              "['Marital status',\n",
              " 'Application mode',\n",
              " 'Application order',\n",
              " 'Course',\n",
              " 'Daytime/evening attendance',\n",
              " 'Previous qualification',\n",
              " 'Nacionality',\n",
              " \"Mother's qualification\",\n",
              " \"Father's qualification\",\n",
              " \"Mother's occupation\",\n",
              " \"Father's occupation\",\n",
              " 'Displaced',\n",
              " 'Educational special needs',\n",
              " 'Debtor',\n",
              " 'Tuition fees up to date',\n",
              " 'Gender',\n",
              " 'Scholarship holder',\n",
              " 'Age at enrollment',\n",
              " 'International',\n",
              " 'Curricular units 1st sem (credited)',\n",
              " 'Curricular units 1st sem (enrolled)',\n",
              " 'Curricular units 1st sem (evaluations)',\n",
              " 'Curricular units 1st sem (approved)',\n",
              " 'Curricular units 1st sem (grade)',\n",
              " 'Curricular units 1st sem (without evaluations)',\n",
              " 'Curricular units 2nd sem (credited)',\n",
              " 'Curricular units 2nd sem (enrolled)',\n",
              " 'Curricular units 2nd sem (evaluations)',\n",
              " 'Curricular units 2nd sem (approved)',\n",
              " 'Curricular units 2nd sem (grade)',\n",
              " 'Curricular units 2nd sem (without evaluations)',\n",
              " 'Unemployment rate',\n",
              " 'Inflation rate',\n",
              " 'GDP',\n",
              " 'Target']"
            ]
          },
          "metadata": {},
          "execution_count": 13
        }
      ]
    },
    {
      "cell_type": "markdown",
      "source": [
        "### Descripcion de variables de interes"
      ],
      "metadata": {
        "id": "sUoVtVsQDNOS"
      }
    },
    {
      "cell_type": "markdown",
      "source": [
        "\n",
        "**Estado civil**\tEl estado civil del estudiante. (Categórico)\n",
        "\n",
        "**Modo de aplicación**\tEl método de aplicación utilizado por el estudiante. (Categórico)\n",
        "\n",
        "**Orden de aplicación**\tEl orden en que el estudiante aplicó. (Numérico)\n",
        "\n",
        "**Curso**\tEl curso tomado por el estudiante. (Categórico)\n",
        "\n",
        "**Asistencia diurna/nocturna**\tSi el estudiante asiste a clases durante el día o la noche. (Categórico)\n",
        "\n",
        "**Cualificación previa**\tLa calificación obtenida por el estudiante antes de ingresar a la educación superior. (Categórico)\n",
        "\n",
        "**Nacionalidad**\tLa nacionalidad del estudiante. (Categórico)\n",
        "\n",
        "**Cualificación de la madre**\tLa calificación de la madre del estudiante. (Categórico)\n",
        "\n",
        "**Cualificación del padre**\tLa calificación del padre del estudiante. (Categórico)\n",
        "\n",
        "**Profesión de la madre**\tLa ocupación de la madre del estudiante. (Categórico)\n",
        "\n",
        "**Trabajo del padre\t**La ocupación del padre del estudiante. (Categórico)\n",
        "\n",
        "**Desplazado**\tSi el estudiante es una persona desplazada. (Categórico)\n",
        "necesidades educativas especiales\tSi el alumno tiene alguna necesidad educativa especial. (Categórico)\n",
        "\n",
        "**Deudor**\tSi el estudiante es deudor. (Categórico)\n",
        "\n",
        "**Tasas de matrícula al día**\t Si las tasas de matrícula del estudiante están al día. (Categórico)\n",
        "\n",
        "**Género**\tEl género del estudiante. (Categórico)\n",
        "\n",
        "**Beca titular**\tSi el estudiante es becario. (Categórico)\n",
        "\n",
        "**Edad de inscripción**\tLa edad del estudiante al momento de la \n",
        "inscripción. (Numérico)\n",
        "\n",
        "**Internacional**\tSi el estudiante es un estudiante internacional. (Categórico)\n",
        "\n",
        "**Unidades curriculares 1er sem (acreditado)\t** El número de unidades curriculares acreditadas por el estudiante en el primer semestre. (Numérico)\n",
        "\n",
        "**Unidades curriculares 1er sem (matriculados)**\t El número de unidades curriculares matriculadas por el estudiante en el primer semestre. (Numérico)\n",
        "\n",
        "**Unidades curriculares 1er sem (evaluaciones) **El número de unidades curriculares evaluadas por el estudiante en el primer semestre.\n",
        " (Numérico)\n",
        "\n",
        "**Unidades curriculares 1er sem (aprobado)**\tEl número de unidades curriculares aprobadas por el estudiante en el primer semestre. (Numérico)\n"
      ],
      "metadata": {
        "id": "2X5UFHFYDNOS"
      }
    },
    {
      "cell_type": "markdown",
      "source": [
        "##Segundo Dataset : Global Billionaire Wealth & Sources [2002-2023]\n",
        "\n",
        "Fuente: https://www.kaggle.com/datasets/salimwid/global-billionaire-wealth-and-sources-2002-2023\n",
        "\n",
        "Este conjunto de datos ofrece una mirada integral a los multimillonarios del mundo desde el año 2002 hasta la actualidad, en medio de un contexto de despidos generalizados y turbulencia económica.El conjunto de datos proporciona información sobre la demografía y el éxito de las personas más ricas del mundo. Puede ser útil para comprender cómo algunos han logrado prosperar durante tiempos económicos difíciles. Por otro lado, también se puede utilizar para explorar las crecientes brechas de desigualdad en todo el mundo."
      ],
      "metadata": {
        "id": "KKQmQEpqDNOQ"
      }
    },
    {
      "cell_type": "code",
      "source": [
        "#Descarga del dataset en formato texto\n",
        "!kaggle datasets download -d salimwid/global-billionaire-wealth-and-sources-2002-2023"
      ],
      "metadata": {
        "colab": {
          "base_uri": "https://localhost:8080/"
        },
        "id": "L0wbEB_nhHAW",
        "outputId": "23edfa60-4cc9-41c5-9a62-c0679dd53c4b"
      },
      "execution_count": null,
      "outputs": [
        {
          "output_type": "stream",
          "name": "stdout",
          "text": [
            "Downloading global-billionaire-wealth-and-sources-2002-2023.zip to /content\n",
            "\r  0% 0.00/2.88M [00:00<?, ?B/s]\n",
            "\r100% 2.88M/2.88M [00:00<00:00, 145MB/s]\n"
          ]
        }
      ]
    },
    {
      "cell_type": "code",
      "source": [
        "#Extrae el archivo de texto del comprimido descargado de Kaggle\n",
        "!unzip -o global-billionaire-wealth-and-sources-2002-2023.zip"
      ],
      "metadata": {
        "colab": {
          "base_uri": "https://localhost:8080/"
        },
        "id": "dVxLz1luhVKN",
        "outputId": "4a13eb28-a9b8-40a1-a317-3dc98d4a4d0c"
      },
      "execution_count": null,
      "outputs": [
        {
          "output_type": "stream",
          "name": "stdout",
          "text": [
            "Archive:  global-billionaire-wealth-and-sources-2002-2023.zip\n",
            "  inflating: billionaire_list_20yrs.csv  \n"
          ]
        }
      ]
    },
    {
      "cell_type": "code",
      "source": [
        "df_hr = pd.read_csv('billionaire_list_20yrs.csv')"
      ],
      "metadata": {
        "id": "mP4jA-UphqF-"
      },
      "execution_count": null,
      "outputs": []
    },
    {
      "cell_type": "code",
      "source": [
        "df_hr.head()"
      ],
      "metadata": {
        "colab": {
          "base_uri": "https://localhost:8080/",
          "height": 634
        },
        "id": "LP_j-73Dh1wq",
        "outputId": "fb692097-168f-4018-f647-409a684d07d7"
      },
      "execution_count": null,
      "outputs": [
        {
          "output_type": "execute_result",
          "data": {
            "text/plain": [
              "   Unnamed: 0                          name   last_name  age gender  time  \\\n",
              "0         675  Abdulla bin Ahmad Al Ghurair  Al Ghurair   67      M  2013   \n",
              "1         676  Abdulla bin Ahmad Al Ghurair  Al Ghurair   67      M  2013   \n",
              "2         677  Abdulla bin Ahmad Al Ghurair  Al Ghurair   67      M  2013   \n",
              "3         678  Abdulla bin Ahmad Al Ghurair  Al Ghurair   67      M  2013   \n",
              "4         679  Abdulla bin Ahmad Al Ghurair  Al Ghurair   67      M  2013   \n",
              "\n",
              "            permanent_country       company main_industry  \\\n",
              "0  United Arab Emirates-Dubai  Mashreq Bank   Diversified   \n",
              "1  United Arab Emirates-Dubai  Mashreq Bank   Diversified   \n",
              "2  United Arab Emirates-Dubai  Mashreq Bank   Diversified   \n",
              "3  United Arab Emirates-Dubai  Mashreq Bank   Diversified   \n",
              "4  United Arab Emirates-Dubai  Mashreq Bank   Diversified   \n",
              "\n",
              "  wealth_source_details             industry state headquarters countries  \\\n",
              "0           diversified  Diversified;Banking   NaN          NaN       are   \n",
              "1           diversified  Diversified;Banking   NaN          NaN       are   \n",
              "2           diversified  Diversified;Banking   NaN          NaN       are   \n",
              "3           diversified  Diversified;Banking   NaN          NaN       are   \n",
              "4           diversified  Diversified;Banking   NaN          NaN       are   \n",
              "\n",
              "   annual_income  daily_income  birth_year                  name_cleaned  \n",
              "0       95604000        261928        1955  abdulla_bin_ahmad_al_ghurair  \n",
              "1       95604000        399254        1955  abdulla_bin_ahmad_al_ghurair  \n",
              "2       95604000        536021        1955  abdulla_bin_ahmad_al_ghurair  \n",
              "3       95604000        410391        1955  abdulla_bin_ahmad_al_ghurair  \n",
              "4       95604000        558904        1955  abdulla_bin_ahmad_al_ghurair  "
            ],
            "text/html": [
              "\n",
              "  <div id=\"df-d77cdfe2-3077-4ea1-bfe0-09f8fb0bbed9\">\n",
              "    <div class=\"colab-df-container\">\n",
              "      <div>\n",
              "<style scoped>\n",
              "    .dataframe tbody tr th:only-of-type {\n",
              "        vertical-align: middle;\n",
              "    }\n",
              "\n",
              "    .dataframe tbody tr th {\n",
              "        vertical-align: top;\n",
              "    }\n",
              "\n",
              "    .dataframe thead th {\n",
              "        text-align: right;\n",
              "    }\n",
              "</style>\n",
              "<table border=\"1\" class=\"dataframe\">\n",
              "  <thead>\n",
              "    <tr style=\"text-align: right;\">\n",
              "      <th></th>\n",
              "      <th>Unnamed: 0</th>\n",
              "      <th>name</th>\n",
              "      <th>last_name</th>\n",
              "      <th>age</th>\n",
              "      <th>gender</th>\n",
              "      <th>time</th>\n",
              "      <th>permanent_country</th>\n",
              "      <th>company</th>\n",
              "      <th>main_industry</th>\n",
              "      <th>wealth_source_details</th>\n",
              "      <th>industry</th>\n",
              "      <th>state</th>\n",
              "      <th>headquarters</th>\n",
              "      <th>countries</th>\n",
              "      <th>annual_income</th>\n",
              "      <th>daily_income</th>\n",
              "      <th>birth_year</th>\n",
              "      <th>name_cleaned</th>\n",
              "    </tr>\n",
              "  </thead>\n",
              "  <tbody>\n",
              "    <tr>\n",
              "      <th>0</th>\n",
              "      <td>675</td>\n",
              "      <td>Abdulla bin Ahmad Al Ghurair</td>\n",
              "      <td>Al Ghurair</td>\n",
              "      <td>67</td>\n",
              "      <td>M</td>\n",
              "      <td>2013</td>\n",
              "      <td>United Arab Emirates-Dubai</td>\n",
              "      <td>Mashreq Bank</td>\n",
              "      <td>Diversified</td>\n",
              "      <td>diversified</td>\n",
              "      <td>Diversified;Banking</td>\n",
              "      <td>NaN</td>\n",
              "      <td>NaN</td>\n",
              "      <td>are</td>\n",
              "      <td>95604000</td>\n",
              "      <td>261928</td>\n",
              "      <td>1955</td>\n",
              "      <td>abdulla_bin_ahmad_al_ghurair</td>\n",
              "    </tr>\n",
              "    <tr>\n",
              "      <th>1</th>\n",
              "      <td>676</td>\n",
              "      <td>Abdulla bin Ahmad Al Ghurair</td>\n",
              "      <td>Al Ghurair</td>\n",
              "      <td>67</td>\n",
              "      <td>M</td>\n",
              "      <td>2013</td>\n",
              "      <td>United Arab Emirates-Dubai</td>\n",
              "      <td>Mashreq Bank</td>\n",
              "      <td>Diversified</td>\n",
              "      <td>diversified</td>\n",
              "      <td>Diversified;Banking</td>\n",
              "      <td>NaN</td>\n",
              "      <td>NaN</td>\n",
              "      <td>are</td>\n",
              "      <td>95604000</td>\n",
              "      <td>399254</td>\n",
              "      <td>1955</td>\n",
              "      <td>abdulla_bin_ahmad_al_ghurair</td>\n",
              "    </tr>\n",
              "    <tr>\n",
              "      <th>2</th>\n",
              "      <td>677</td>\n",
              "      <td>Abdulla bin Ahmad Al Ghurair</td>\n",
              "      <td>Al Ghurair</td>\n",
              "      <td>67</td>\n",
              "      <td>M</td>\n",
              "      <td>2013</td>\n",
              "      <td>United Arab Emirates-Dubai</td>\n",
              "      <td>Mashreq Bank</td>\n",
              "      <td>Diversified</td>\n",
              "      <td>diversified</td>\n",
              "      <td>Diversified;Banking</td>\n",
              "      <td>NaN</td>\n",
              "      <td>NaN</td>\n",
              "      <td>are</td>\n",
              "      <td>95604000</td>\n",
              "      <td>536021</td>\n",
              "      <td>1955</td>\n",
              "      <td>abdulla_bin_ahmad_al_ghurair</td>\n",
              "    </tr>\n",
              "    <tr>\n",
              "      <th>3</th>\n",
              "      <td>678</td>\n",
              "      <td>Abdulla bin Ahmad Al Ghurair</td>\n",
              "      <td>Al Ghurair</td>\n",
              "      <td>67</td>\n",
              "      <td>M</td>\n",
              "      <td>2013</td>\n",
              "      <td>United Arab Emirates-Dubai</td>\n",
              "      <td>Mashreq Bank</td>\n",
              "      <td>Diversified</td>\n",
              "      <td>diversified</td>\n",
              "      <td>Diversified;Banking</td>\n",
              "      <td>NaN</td>\n",
              "      <td>NaN</td>\n",
              "      <td>are</td>\n",
              "      <td>95604000</td>\n",
              "      <td>410391</td>\n",
              "      <td>1955</td>\n",
              "      <td>abdulla_bin_ahmad_al_ghurair</td>\n",
              "    </tr>\n",
              "    <tr>\n",
              "      <th>4</th>\n",
              "      <td>679</td>\n",
              "      <td>Abdulla bin Ahmad Al Ghurair</td>\n",
              "      <td>Al Ghurair</td>\n",
              "      <td>67</td>\n",
              "      <td>M</td>\n",
              "      <td>2013</td>\n",
              "      <td>United Arab Emirates-Dubai</td>\n",
              "      <td>Mashreq Bank</td>\n",
              "      <td>Diversified</td>\n",
              "      <td>diversified</td>\n",
              "      <td>Diversified;Banking</td>\n",
              "      <td>NaN</td>\n",
              "      <td>NaN</td>\n",
              "      <td>are</td>\n",
              "      <td>95604000</td>\n",
              "      <td>558904</td>\n",
              "      <td>1955</td>\n",
              "      <td>abdulla_bin_ahmad_al_ghurair</td>\n",
              "    </tr>\n",
              "  </tbody>\n",
              "</table>\n",
              "</div>\n",
              "      <button class=\"colab-df-convert\" onclick=\"convertToInteractive('df-d77cdfe2-3077-4ea1-bfe0-09f8fb0bbed9')\"\n",
              "              title=\"Convert this dataframe to an interactive table.\"\n",
              "              style=\"display:none;\">\n",
              "        \n",
              "  <svg xmlns=\"http://www.w3.org/2000/svg\" height=\"24px\"viewBox=\"0 0 24 24\"\n",
              "       width=\"24px\">\n",
              "    <path d=\"M0 0h24v24H0V0z\" fill=\"none\"/>\n",
              "    <path d=\"M18.56 5.44l.94 2.06.94-2.06 2.06-.94-2.06-.94-.94-2.06-.94 2.06-2.06.94zm-11 1L8.5 8.5l.94-2.06 2.06-.94-2.06-.94L8.5 2.5l-.94 2.06-2.06.94zm10 10l.94 2.06.94-2.06 2.06-.94-2.06-.94-.94-2.06-.94 2.06-2.06.94z\"/><path d=\"M17.41 7.96l-1.37-1.37c-.4-.4-.92-.59-1.43-.59-.52 0-1.04.2-1.43.59L10.3 9.45l-7.72 7.72c-.78.78-.78 2.05 0 2.83L4 21.41c.39.39.9.59 1.41.59.51 0 1.02-.2 1.41-.59l7.78-7.78 2.81-2.81c.8-.78.8-2.07 0-2.86zM5.41 20L4 18.59l7.72-7.72 1.47 1.35L5.41 20z\"/>\n",
              "  </svg>\n",
              "      </button>\n",
              "      \n",
              "  <style>\n",
              "    .colab-df-container {\n",
              "      display:flex;\n",
              "      flex-wrap:wrap;\n",
              "      gap: 12px;\n",
              "    }\n",
              "\n",
              "    .colab-df-convert {\n",
              "      background-color: #E8F0FE;\n",
              "      border: none;\n",
              "      border-radius: 50%;\n",
              "      cursor: pointer;\n",
              "      display: none;\n",
              "      fill: #1967D2;\n",
              "      height: 32px;\n",
              "      padding: 0 0 0 0;\n",
              "      width: 32px;\n",
              "    }\n",
              "\n",
              "    .colab-df-convert:hover {\n",
              "      background-color: #E2EBFA;\n",
              "      box-shadow: 0px 1px 2px rgba(60, 64, 67, 0.3), 0px 1px 3px 1px rgba(60, 64, 67, 0.15);\n",
              "      fill: #174EA6;\n",
              "    }\n",
              "\n",
              "    [theme=dark] .colab-df-convert {\n",
              "      background-color: #3B4455;\n",
              "      fill: #D2E3FC;\n",
              "    }\n",
              "\n",
              "    [theme=dark] .colab-df-convert:hover {\n",
              "      background-color: #434B5C;\n",
              "      box-shadow: 0px 1px 3px 1px rgba(0, 0, 0, 0.15);\n",
              "      filter: drop-shadow(0px 1px 2px rgba(0, 0, 0, 0.3));\n",
              "      fill: #FFFFFF;\n",
              "    }\n",
              "  </style>\n",
              "\n",
              "      <script>\n",
              "        const buttonEl =\n",
              "          document.querySelector('#df-d77cdfe2-3077-4ea1-bfe0-09f8fb0bbed9 button.colab-df-convert');\n",
              "        buttonEl.style.display =\n",
              "          google.colab.kernel.accessAllowed ? 'block' : 'none';\n",
              "\n",
              "        async function convertToInteractive(key) {\n",
              "          const element = document.querySelector('#df-d77cdfe2-3077-4ea1-bfe0-09f8fb0bbed9');\n",
              "          const dataTable =\n",
              "            await google.colab.kernel.invokeFunction('convertToInteractive',\n",
              "                                                     [key], {});\n",
              "          if (!dataTable) return;\n",
              "\n",
              "          const docLinkHtml = 'Like what you see? Visit the ' +\n",
              "            '<a target=\"_blank\" href=https://colab.research.google.com/notebooks/data_table.ipynb>data table notebook</a>'\n",
              "            + ' to learn more about interactive tables.';\n",
              "          element.innerHTML = '';\n",
              "          dataTable['output_type'] = 'display_data';\n",
              "          await google.colab.output.renderOutput(dataTable, element);\n",
              "          const docLink = document.createElement('div');\n",
              "          docLink.innerHTML = docLinkHtml;\n",
              "          element.appendChild(docLink);\n",
              "        }\n",
              "      </script>\n",
              "    </div>\n",
              "  </div>\n",
              "  "
            ]
          },
          "metadata": {},
          "execution_count": 19
        }
      ]
    },
    {
      "cell_type": "code",
      "source": [
        "df_hr.shape"
      ],
      "metadata": {
        "colab": {
          "base_uri": "https://localhost:8080/"
        },
        "id": "ZbSVtkJMh5P-",
        "outputId": "c9e82312-b2c0-4b46-9de7-760381347fc6"
      },
      "execution_count": null,
      "outputs": [
        {
          "output_type": "execute_result",
          "data": {
            "text/plain": [
              "(352369, 18)"
            ]
          },
          "metadata": {},
          "execution_count": 20
        }
      ]
    },
    {
      "cell_type": "code",
      "source": [
        "df_hr.columns.tolist()"
      ],
      "metadata": {
        "colab": {
          "base_uri": "https://localhost:8080/"
        },
        "id": "I4nUwsAdh7lV",
        "outputId": "9614fa0d-4a29-417b-9747-f0ee82d12f2c"
      },
      "execution_count": null,
      "outputs": [
        {
          "output_type": "execute_result",
          "data": {
            "text/plain": [
              "['Unnamed: 0',\n",
              " 'name',\n",
              " 'last_name',\n",
              " 'age',\n",
              " 'gender',\n",
              " 'time',\n",
              " 'permanent_country',\n",
              " 'company',\n",
              " 'main_industry',\n",
              " 'wealth_source_details',\n",
              " 'industry',\n",
              " 'state',\n",
              " 'headquarters',\n",
              " 'countries',\n",
              " 'annual_income',\n",
              " 'daily_income',\n",
              " 'birth_year',\n",
              " 'name_cleaned']"
            ]
          },
          "metadata": {},
          "execution_count": 21
        }
      ]
    },
    {
      "cell_type": "markdown",
      "source": [
        "### Descripcion de variables de interes"
      ],
      "metadata": {
        "id": "ueq0vCI4rpeg"
      }
    },
    {
      "cell_type": "markdown",
      "source": [
        "- **Nombre**\n",
        "- **Apellido**\n",
        "- **Edad**\n",
        "- **Género**\n",
        "- **País de residencia permanente**\n",
        "- **Compañía**\n",
        "-**Año nacimiento**\n",
        "- **Industria principal** industria de la cual los individuos obtienen la mayor parte de sus fuentes de riqueza\n",
        "- **Fuente de riqueza** otros detalles sobre las fuentes de riqueza\n",
        "-**industria** otras industrias en las que el individuo está involucrado}\n",
        "-**estado**\n",
        "solo para personas con sede en EE. UU.\n",
        "-**sede**\n",
        "solo para personas con sede en EE. UU.\n",
        "-**países**\n",
        "otros países en los que las personas pueden tener su sede.\n",
        "-**ingresos anuales**\n",
        "ingreso anual para un año en particula\n",
        "-**ingresos_diarios**\n",
        "ingresos diarios para un año en particula\n"
      ],
      "metadata": {
        "id": "1pmL7o2oqPqO"
      }
    },
    {
      "cell_type": "markdown",
      "source": [
        "##Tercer Dataset : Amazon Sales Dataset\n",
        "\n",
        "Fuente: https://www.kaggle.com/datasets/karkavelrajaj/amazon-sales-dataset\n",
        "\n",
        "Este conjunto de datos tiene los datos de 1K+ Calificaciones y reseñas de productos de Amazon según sus detalles enumerados en el sitio web oficial de Amazon"
      ],
      "metadata": {
        "id": "YvA142nQiFfH"
      }
    },
    {
      "cell_type": "code",
      "source": [
        "#Descarga del dataset en formato texto\n",
        "!kaggle datasets download -d karkavelrajaj/amazon-sales-dataset"
      ],
      "metadata": {
        "colab": {
          "base_uri": "https://localhost:8080/"
        },
        "id": "MMV3LDgjihsO",
        "outputId": "a0da1629-1242-4be5-8a43-e7056082de2b"
      },
      "execution_count": null,
      "outputs": [
        {
          "output_type": "stream",
          "name": "stdout",
          "text": [
            "Downloading amazon-sales-dataset.zip to /content\n",
            "\r  0% 0.00/1.95M [00:00<?, ?B/s]\n",
            "\r100% 1.95M/1.95M [00:00<00:00, 137MB/s]\n"
          ]
        }
      ]
    },
    {
      "cell_type": "code",
      "source": [
        "#Extrae el archivo de texto del comprimido descargado de Kaggle\n",
        "!unzip -o amazon-sales-dataset.zip"
      ],
      "metadata": {
        "colab": {
          "base_uri": "https://localhost:8080/"
        },
        "id": "ImpiA4V1i0R9",
        "outputId": "40cfa1f6-f44c-4a92-fd3e-5a82f8ecdf83"
      },
      "execution_count": null,
      "outputs": [
        {
          "output_type": "stream",
          "name": "stdout",
          "text": [
            "Archive:  amazon-sales-dataset.zip\n",
            "  inflating: amazon.csv              \n"
          ]
        }
      ]
    },
    {
      "cell_type": "code",
      "source": [
        "df_hr = pd.read_csv('amazon.csv')"
      ],
      "metadata": {
        "id": "nW-CJWqyjArG"
      },
      "execution_count": null,
      "outputs": []
    },
    {
      "cell_type": "code",
      "source": [
        "df_hr.head()"
      ],
      "metadata": {
        "colab": {
          "base_uri": "https://localhost:8080/",
          "height": 582
        },
        "id": "guxNG1zMjJ7F",
        "outputId": "6cf057a7-e39e-4bd3-f1d9-71aebeaf5d02"
      },
      "execution_count": null,
      "outputs": [
        {
          "output_type": "execute_result",
          "data": {
            "text/plain": [
              "   product_id                                       product_name  \\\n",
              "0  B07JW9H4J1  Wayona Nylon Braided USB to Lightning Fast Cha...   \n",
              "1  B098NS6PVG  Ambrane Unbreakable 60W / 3A Fast Charging 1.5...   \n",
              "2  B096MSW6CT  Sounce Fast Phone Charging Cable & Data Sync U...   \n",
              "3  B08HDJ86NZ  boAt Deuce USB 300 2 in 1 Type-C & Micro USB S...   \n",
              "4  B08CF3B7N1  Portronics Konnect L 1.2M Fast Charging 3A 8 P...   \n",
              "\n",
              "                                            category discounted_price  \\\n",
              "0  Computers&Accessories|Accessories&Peripherals|...             ₹399   \n",
              "1  Computers&Accessories|Accessories&Peripherals|...             ₹199   \n",
              "2  Computers&Accessories|Accessories&Peripherals|...             ₹199   \n",
              "3  Computers&Accessories|Accessories&Peripherals|...             ₹329   \n",
              "4  Computers&Accessories|Accessories&Peripherals|...             ₹154   \n",
              "\n",
              "  actual_price discount_percentage rating rating_count  \\\n",
              "0       ₹1,099                 64%    4.2       24,269   \n",
              "1         ₹349                 43%    4.0       43,994   \n",
              "2       ₹1,899                 90%    3.9        7,928   \n",
              "3         ₹699                 53%    4.2       94,363   \n",
              "4         ₹399                 61%    4.2       16,905   \n",
              "\n",
              "                                       about_product  \\\n",
              "0  High Compatibility : Compatible With iPhone 12...   \n",
              "1  Compatible with all Type C enabled devices, be...   \n",
              "2  【 Fast Charger& Data Sync】-With built-in safet...   \n",
              "3  The boAt Deuce USB 300 2 in 1 cable is compati...   \n",
              "4  [CHARGE & SYNC FUNCTION]- This cable comes wit...   \n",
              "\n",
              "                                             user_id  \\\n",
              "0  AG3D6O4STAQKAY2UVGEUV46KN35Q,AHMY5CWJMMK5BJRBB...   \n",
              "1  AECPFYFQVRUWC3KGNLJIOREFP5LQ,AGYYVPDD7YG7FYNBX...   \n",
              "2  AGU3BBQ2V2DDAMOAKGFAWDDQ6QHA,AESFLDV2PT363T2AQ...   \n",
              "3  AEWAZDZZJLQUYVOVGBEUKSLXHQ5A,AG5HTSFRRE6NL3M5S...   \n",
              "4  AE3Q6KSUK5P75D5HFYHCRAOLODSA,AFUGIFH5ZAFXRDSZH...   \n",
              "\n",
              "                                           user_name  \\\n",
              "0  Manav,Adarsh gupta,Sundeep,S.Sayeed Ahmed,jasp...   \n",
              "1  ArdKn,Nirbhay kumar,Sagar Viswanathan,Asp,Plac...   \n",
              "2  Kunal,Himanshu,viswanath,sai niharka,saqib mal...   \n",
              "3  Omkar dhale,JD,HEMALATHA,Ajwadh a.,amar singh ...   \n",
              "4  rahuls6099,Swasat Borah,Ajay Wadke,Pranali,RVK...   \n",
              "\n",
              "                                           review_id  \\\n",
              "0  R3HXWT0LRP0NMF,R2AJM3LFTLZHFO,R6AQJGUP6P86,R1K...   \n",
              "1  RGIQEG07R9HS2,R1SMWZQ86XIN8U,R2J3Y1WL29GWDE,RY...   \n",
              "2  R3J3EQQ9TZI5ZJ,R3E7WBGK7ID0KV,RWU79XKQ6I1QF,R2...   \n",
              "3  R3EEUZKKK9J36I,R3HJVYCLYOY554,REDECAZ7AMPQC,R1...   \n",
              "4  R1BP4L2HH9TFUP,R16PVJEXKV6QZS,R2UPDB81N66T4P,R...   \n",
              "\n",
              "                                        review_title  \\\n",
              "0  Satisfied,Charging is really fast,Value for mo...   \n",
              "1  A Good Braided Cable for Your Type C Device,Go...   \n",
              "2  Good speed for earlier versions,Good Product,W...   \n",
              "3  Good product,Good one,Nice,Really nice product...   \n",
              "4  As good as original,Decent,Good one for second...   \n",
              "\n",
              "                                      review_content  \\\n",
              "0  Looks durable Charging is fine tooNo complains...   \n",
              "1  I ordered this cable to connect my phone to An...   \n",
              "2  Not quite durable and sturdy,https://m.media-a...   \n",
              "3  Good product,long wire,Charges good,Nice,I bou...   \n",
              "4  Bought this instead of original apple, does th...   \n",
              "\n",
              "                                            img_link  \\\n",
              "0  https://m.media-amazon.com/images/W/WEBP_40237...   \n",
              "1  https://m.media-amazon.com/images/W/WEBP_40237...   \n",
              "2  https://m.media-amazon.com/images/W/WEBP_40237...   \n",
              "3  https://m.media-amazon.com/images/I/41V5FtEWPk...   \n",
              "4  https://m.media-amazon.com/images/W/WEBP_40237...   \n",
              "\n",
              "                                        product_link  \n",
              "0  https://www.amazon.in/Wayona-Braided-WN3LG1-Sy...  \n",
              "1  https://www.amazon.in/Ambrane-Unbreakable-Char...  \n",
              "2  https://www.amazon.in/Sounce-iPhone-Charging-C...  \n",
              "3  https://www.amazon.in/Deuce-300-Resistant-Tang...  \n",
              "4  https://www.amazon.in/Portronics-Konnect-POR-1...  "
            ],
            "text/html": [
              "\n",
              "  <div id=\"df-9f14d4b7-7513-4873-ad44-10ed94e0a667\">\n",
              "    <div class=\"colab-df-container\">\n",
              "      <div>\n",
              "<style scoped>\n",
              "    .dataframe tbody tr th:only-of-type {\n",
              "        vertical-align: middle;\n",
              "    }\n",
              "\n",
              "    .dataframe tbody tr th {\n",
              "        vertical-align: top;\n",
              "    }\n",
              "\n",
              "    .dataframe thead th {\n",
              "        text-align: right;\n",
              "    }\n",
              "</style>\n",
              "<table border=\"1\" class=\"dataframe\">\n",
              "  <thead>\n",
              "    <tr style=\"text-align: right;\">\n",
              "      <th></th>\n",
              "      <th>product_id</th>\n",
              "      <th>product_name</th>\n",
              "      <th>category</th>\n",
              "      <th>discounted_price</th>\n",
              "      <th>actual_price</th>\n",
              "      <th>discount_percentage</th>\n",
              "      <th>rating</th>\n",
              "      <th>rating_count</th>\n",
              "      <th>about_product</th>\n",
              "      <th>user_id</th>\n",
              "      <th>user_name</th>\n",
              "      <th>review_id</th>\n",
              "      <th>review_title</th>\n",
              "      <th>review_content</th>\n",
              "      <th>img_link</th>\n",
              "      <th>product_link</th>\n",
              "    </tr>\n",
              "  </thead>\n",
              "  <tbody>\n",
              "    <tr>\n",
              "      <th>0</th>\n",
              "      <td>B07JW9H4J1</td>\n",
              "      <td>Wayona Nylon Braided USB to Lightning Fast Cha...</td>\n",
              "      <td>Computers&amp;Accessories|Accessories&amp;Peripherals|...</td>\n",
              "      <td>₹399</td>\n",
              "      <td>₹1,099</td>\n",
              "      <td>64%</td>\n",
              "      <td>4.2</td>\n",
              "      <td>24,269</td>\n",
              "      <td>High Compatibility : Compatible With iPhone 12...</td>\n",
              "      <td>AG3D6O4STAQKAY2UVGEUV46KN35Q,AHMY5CWJMMK5BJRBB...</td>\n",
              "      <td>Manav,Adarsh gupta,Sundeep,S.Sayeed Ahmed,jasp...</td>\n",
              "      <td>R3HXWT0LRP0NMF,R2AJM3LFTLZHFO,R6AQJGUP6P86,R1K...</td>\n",
              "      <td>Satisfied,Charging is really fast,Value for mo...</td>\n",
              "      <td>Looks durable Charging is fine tooNo complains...</td>\n",
              "      <td>https://m.media-amazon.com/images/W/WEBP_40237...</td>\n",
              "      <td>https://www.amazon.in/Wayona-Braided-WN3LG1-Sy...</td>\n",
              "    </tr>\n",
              "    <tr>\n",
              "      <th>1</th>\n",
              "      <td>B098NS6PVG</td>\n",
              "      <td>Ambrane Unbreakable 60W / 3A Fast Charging 1.5...</td>\n",
              "      <td>Computers&amp;Accessories|Accessories&amp;Peripherals|...</td>\n",
              "      <td>₹199</td>\n",
              "      <td>₹349</td>\n",
              "      <td>43%</td>\n",
              "      <td>4.0</td>\n",
              "      <td>43,994</td>\n",
              "      <td>Compatible with all Type C enabled devices, be...</td>\n",
              "      <td>AECPFYFQVRUWC3KGNLJIOREFP5LQ,AGYYVPDD7YG7FYNBX...</td>\n",
              "      <td>ArdKn,Nirbhay kumar,Sagar Viswanathan,Asp,Plac...</td>\n",
              "      <td>RGIQEG07R9HS2,R1SMWZQ86XIN8U,R2J3Y1WL29GWDE,RY...</td>\n",
              "      <td>A Good Braided Cable for Your Type C Device,Go...</td>\n",
              "      <td>I ordered this cable to connect my phone to An...</td>\n",
              "      <td>https://m.media-amazon.com/images/W/WEBP_40237...</td>\n",
              "      <td>https://www.amazon.in/Ambrane-Unbreakable-Char...</td>\n",
              "    </tr>\n",
              "    <tr>\n",
              "      <th>2</th>\n",
              "      <td>B096MSW6CT</td>\n",
              "      <td>Sounce Fast Phone Charging Cable &amp; Data Sync U...</td>\n",
              "      <td>Computers&amp;Accessories|Accessories&amp;Peripherals|...</td>\n",
              "      <td>₹199</td>\n",
              "      <td>₹1,899</td>\n",
              "      <td>90%</td>\n",
              "      <td>3.9</td>\n",
              "      <td>7,928</td>\n",
              "      <td>【 Fast Charger&amp; Data Sync】-With built-in safet...</td>\n",
              "      <td>AGU3BBQ2V2DDAMOAKGFAWDDQ6QHA,AESFLDV2PT363T2AQ...</td>\n",
              "      <td>Kunal,Himanshu,viswanath,sai niharka,saqib mal...</td>\n",
              "      <td>R3J3EQQ9TZI5ZJ,R3E7WBGK7ID0KV,RWU79XKQ6I1QF,R2...</td>\n",
              "      <td>Good speed for earlier versions,Good Product,W...</td>\n",
              "      <td>Not quite durable and sturdy,https://m.media-a...</td>\n",
              "      <td>https://m.media-amazon.com/images/W/WEBP_40237...</td>\n",
              "      <td>https://www.amazon.in/Sounce-iPhone-Charging-C...</td>\n",
              "    </tr>\n",
              "    <tr>\n",
              "      <th>3</th>\n",
              "      <td>B08HDJ86NZ</td>\n",
              "      <td>boAt Deuce USB 300 2 in 1 Type-C &amp; Micro USB S...</td>\n",
              "      <td>Computers&amp;Accessories|Accessories&amp;Peripherals|...</td>\n",
              "      <td>₹329</td>\n",
              "      <td>₹699</td>\n",
              "      <td>53%</td>\n",
              "      <td>4.2</td>\n",
              "      <td>94,363</td>\n",
              "      <td>The boAt Deuce USB 300 2 in 1 cable is compati...</td>\n",
              "      <td>AEWAZDZZJLQUYVOVGBEUKSLXHQ5A,AG5HTSFRRE6NL3M5S...</td>\n",
              "      <td>Omkar dhale,JD,HEMALATHA,Ajwadh a.,amar singh ...</td>\n",
              "      <td>R3EEUZKKK9J36I,R3HJVYCLYOY554,REDECAZ7AMPQC,R1...</td>\n",
              "      <td>Good product,Good one,Nice,Really nice product...</td>\n",
              "      <td>Good product,long wire,Charges good,Nice,I bou...</td>\n",
              "      <td>https://m.media-amazon.com/images/I/41V5FtEWPk...</td>\n",
              "      <td>https://www.amazon.in/Deuce-300-Resistant-Tang...</td>\n",
              "    </tr>\n",
              "    <tr>\n",
              "      <th>4</th>\n",
              "      <td>B08CF3B7N1</td>\n",
              "      <td>Portronics Konnect L 1.2M Fast Charging 3A 8 P...</td>\n",
              "      <td>Computers&amp;Accessories|Accessories&amp;Peripherals|...</td>\n",
              "      <td>₹154</td>\n",
              "      <td>₹399</td>\n",
              "      <td>61%</td>\n",
              "      <td>4.2</td>\n",
              "      <td>16,905</td>\n",
              "      <td>[CHARGE &amp; SYNC FUNCTION]- This cable comes wit...</td>\n",
              "      <td>AE3Q6KSUK5P75D5HFYHCRAOLODSA,AFUGIFH5ZAFXRDSZH...</td>\n",
              "      <td>rahuls6099,Swasat Borah,Ajay Wadke,Pranali,RVK...</td>\n",
              "      <td>R1BP4L2HH9TFUP,R16PVJEXKV6QZS,R2UPDB81N66T4P,R...</td>\n",
              "      <td>As good as original,Decent,Good one for second...</td>\n",
              "      <td>Bought this instead of original apple, does th...</td>\n",
              "      <td>https://m.media-amazon.com/images/W/WEBP_40237...</td>\n",
              "      <td>https://www.amazon.in/Portronics-Konnect-POR-1...</td>\n",
              "    </tr>\n",
              "  </tbody>\n",
              "</table>\n",
              "</div>\n",
              "      <button class=\"colab-df-convert\" onclick=\"convertToInteractive('df-9f14d4b7-7513-4873-ad44-10ed94e0a667')\"\n",
              "              title=\"Convert this dataframe to an interactive table.\"\n",
              "              style=\"display:none;\">\n",
              "        \n",
              "  <svg xmlns=\"http://www.w3.org/2000/svg\" height=\"24px\"viewBox=\"0 0 24 24\"\n",
              "       width=\"24px\">\n",
              "    <path d=\"M0 0h24v24H0V0z\" fill=\"none\"/>\n",
              "    <path d=\"M18.56 5.44l.94 2.06.94-2.06 2.06-.94-2.06-.94-.94-2.06-.94 2.06-2.06.94zm-11 1L8.5 8.5l.94-2.06 2.06-.94-2.06-.94L8.5 2.5l-.94 2.06-2.06.94zm10 10l.94 2.06.94-2.06 2.06-.94-2.06-.94-.94-2.06-.94 2.06-2.06.94z\"/><path d=\"M17.41 7.96l-1.37-1.37c-.4-.4-.92-.59-1.43-.59-.52 0-1.04.2-1.43.59L10.3 9.45l-7.72 7.72c-.78.78-.78 2.05 0 2.83L4 21.41c.39.39.9.59 1.41.59.51 0 1.02-.2 1.41-.59l7.78-7.78 2.81-2.81c.8-.78.8-2.07 0-2.86zM5.41 20L4 18.59l7.72-7.72 1.47 1.35L5.41 20z\"/>\n",
              "  </svg>\n",
              "      </button>\n",
              "      \n",
              "  <style>\n",
              "    .colab-df-container {\n",
              "      display:flex;\n",
              "      flex-wrap:wrap;\n",
              "      gap: 12px;\n",
              "    }\n",
              "\n",
              "    .colab-df-convert {\n",
              "      background-color: #E8F0FE;\n",
              "      border: none;\n",
              "      border-radius: 50%;\n",
              "      cursor: pointer;\n",
              "      display: none;\n",
              "      fill: #1967D2;\n",
              "      height: 32px;\n",
              "      padding: 0 0 0 0;\n",
              "      width: 32px;\n",
              "    }\n",
              "\n",
              "    .colab-df-convert:hover {\n",
              "      background-color: #E2EBFA;\n",
              "      box-shadow: 0px 1px 2px rgba(60, 64, 67, 0.3), 0px 1px 3px 1px rgba(60, 64, 67, 0.15);\n",
              "      fill: #174EA6;\n",
              "    }\n",
              "\n",
              "    [theme=dark] .colab-df-convert {\n",
              "      background-color: #3B4455;\n",
              "      fill: #D2E3FC;\n",
              "    }\n",
              "\n",
              "    [theme=dark] .colab-df-convert:hover {\n",
              "      background-color: #434B5C;\n",
              "      box-shadow: 0px 1px 3px 1px rgba(0, 0, 0, 0.15);\n",
              "      filter: drop-shadow(0px 1px 2px rgba(0, 0, 0, 0.3));\n",
              "      fill: #FFFFFF;\n",
              "    }\n",
              "  </style>\n",
              "\n",
              "      <script>\n",
              "        const buttonEl =\n",
              "          document.querySelector('#df-9f14d4b7-7513-4873-ad44-10ed94e0a667 button.colab-df-convert');\n",
              "        buttonEl.style.display =\n",
              "          google.colab.kernel.accessAllowed ? 'block' : 'none';\n",
              "\n",
              "        async function convertToInteractive(key) {\n",
              "          const element = document.querySelector('#df-9f14d4b7-7513-4873-ad44-10ed94e0a667');\n",
              "          const dataTable =\n",
              "            await google.colab.kernel.invokeFunction('convertToInteractive',\n",
              "                                                     [key], {});\n",
              "          if (!dataTable) return;\n",
              "\n",
              "          const docLinkHtml = 'Like what you see? Visit the ' +\n",
              "            '<a target=\"_blank\" href=https://colab.research.google.com/notebooks/data_table.ipynb>data table notebook</a>'\n",
              "            + ' to learn more about interactive tables.';\n",
              "          element.innerHTML = '';\n",
              "          dataTable['output_type'] = 'display_data';\n",
              "          await google.colab.output.renderOutput(dataTable, element);\n",
              "          const docLink = document.createElement('div');\n",
              "          docLink.innerHTML = docLinkHtml;\n",
              "          element.appendChild(docLink);\n",
              "        }\n",
              "      </script>\n",
              "    </div>\n",
              "  </div>\n",
              "  "
            ]
          },
          "metadata": {},
          "execution_count": 25
        }
      ]
    },
    {
      "cell_type": "code",
      "source": [
        "df_hr.shape"
      ],
      "metadata": {
        "colab": {
          "base_uri": "https://localhost:8080/"
        },
        "id": "9bzK4qsejN2e",
        "outputId": "d518dcb9-c702-40c5-8f4e-1b2a2aedd6d7"
      },
      "execution_count": null,
      "outputs": [
        {
          "output_type": "execute_result",
          "data": {
            "text/plain": [
              "(1465, 16)"
            ]
          },
          "metadata": {},
          "execution_count": 26
        }
      ]
    },
    {
      "cell_type": "code",
      "source": [
        "df_hr.columns.tolist()"
      ],
      "metadata": {
        "colab": {
          "base_uri": "https://localhost:8080/"
        },
        "id": "OZ-VFrHRjXPN",
        "outputId": "9d40adf5-77c3-4c4f-e30d-6a239bf20f77"
      },
      "execution_count": null,
      "outputs": [
        {
          "output_type": "execute_result",
          "data": {
            "text/plain": [
              "['product_id',\n",
              " 'product_name',\n",
              " 'category',\n",
              " 'discounted_price',\n",
              " 'actual_price',\n",
              " 'discount_percentage',\n",
              " 'rating',\n",
              " 'rating_count',\n",
              " 'about_product',\n",
              " 'user_id',\n",
              " 'user_name',\n",
              " 'review_id',\n",
              " 'review_title',\n",
              " 'review_content',\n",
              " 'img_link',\n",
              " 'product_link']"
            ]
          },
          "metadata": {},
          "execution_count": 27
        }
      ]
    },
    {
      "cell_type": "markdown",
      "source": [
        "### Descripcion de variables de interes"
      ],
      "metadata": {
        "id": "mD66GZjTr3Zw"
      }
    },
    {
      "cell_type": "markdown",
      "source": [
        "**product_id** - ID del producto\n",
        "\n",
        "**product_name** - Nombre del Producto\n",
        "\n",
        "**categoría** - Categoría del Producto\n",
        "\n",
        "**discounted_price** - Precio con descuento del producto\n",
        "\n",
        "**precio_actual** - Precio real del producto\n",
        "\n",
        "**discount_percentage** - Porcentaje de Descuento para el Producto\n",
        "\n",
        "**rating** - Valoración del Producto\n",
        "\n",
        "**rating_count** - Número de personas que votaron por la calificación \n",
        "de Amazon\n",
        "\n",
        "**about_product** - Descripción sobre el Producto\n",
        "\n",
        "**user_id** - ID del usuario que escribió la reseña del Producto\n",
        "\n",
        "**user_name**: nombre del usuario que escribió la reseña del producto\n",
        "\n",
        "**review_id** - ID de la reseña del usuario\n",
        "\n",
        "**review_title** - Breve reseña\n",
        "\n",
        "**review_content** - Reseña larga\n",
        "\n",
        "**img_link** - Enlace de imagen del producto\n",
        "\n",
        "**product_link** - Enlace del sitio web oficial del producto\n"
      ],
      "metadata": {
        "id": "7KKrxcbmr4gd"
      }
    }
  ]
}